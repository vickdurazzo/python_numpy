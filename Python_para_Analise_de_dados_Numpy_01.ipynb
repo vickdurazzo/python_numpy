{
  "nbformat": 4,
  "nbformat_minor": 0,
  "metadata": {
    "colab": {
      "provenance": [],
      "authorship_tag": "ABX9TyMzzDzsZ/cuNS05Gye3E36+",
      "include_colab_link": true
    },
    "kernelspec": {
      "name": "python3",
      "display_name": "Python 3"
    },
    "language_info": {
      "name": "python"
    }
  },
  "cells": [
    {
      "cell_type": "markdown",
      "metadata": {
        "id": "view-in-github",
        "colab_type": "text"
      },
      "source": [
        "<a href=\"https://colab.research.google.com/github/vickdurazzo/python_numpy/blob/main/Python_para_Analise_de_dados_Numpy_01.ipynb\" target=\"_parent\"><img src=\"https://colab.research.google.com/assets/colab-badge.svg\" alt=\"Open In Colab\"/></a>"
      ]
    },
    {
      "cell_type": "markdown",
      "source": [
        "# **Python para Análise de Dados - Numpy**"
      ],
      "metadata": {
        "id": "TnZTKLkvs4bX"
      }
    },
    {
      "cell_type": "code",
      "execution_count": null,
      "metadata": {
        "id": "wFnqZEpts19G"
      },
      "outputs": [],
      "source": [
        "# Importando biblioteca numpy\n",
        "import numpy as np"
      ]
    },
    {
      "cell_type": "code",
      "source": [
        "# Criando um array de 1 dimensão\n",
        "one_dim = np.array([1,2,3,4])"
      ],
      "metadata": {
        "id": "pKsn0h_htGFg"
      },
      "execution_count": null,
      "outputs": []
    },
    {
      "cell_type": "code",
      "source": [
        "type(one_dim)"
      ],
      "metadata": {
        "colab": {
          "base_uri": "https://localhost:8080/"
        },
        "id": "d9orGmD_tbou",
        "outputId": "fd655d6c-dde1-4fc0-81e3-364bf609a461"
      },
      "execution_count": null,
      "outputs": [
        {
          "output_type": "execute_result",
          "data": {
            "text/plain": [
              "numpy.ndarray"
            ]
          },
          "metadata": {},
          "execution_count": 4
        }
      ]
    },
    {
      "cell_type": "code",
      "source": [
        "# Imprimindo as dimensões do array\n",
        "one_dim.ndim"
      ],
      "metadata": {
        "colab": {
          "base_uri": "https://localhost:8080/"
        },
        "id": "P4dOkqRItN7c",
        "outputId": "a873e507-6f68-4d9f-ad59-de29fd9f3561"
      },
      "execution_count": null,
      "outputs": [
        {
          "output_type": "execute_result",
          "data": {
            "text/plain": [
              "1"
            ]
          },
          "metadata": {},
          "execution_count": 3
        }
      ]
    },
    {
      "cell_type": "code",
      "source": [
        "# Criando um array de 2 dimensões\n",
        "two_dim = np.array([(1,2,3),(4,5,6)])"
      ],
      "metadata": {
        "id": "6rTKmQTLth_D"
      },
      "execution_count": null,
      "outputs": []
    },
    {
      "cell_type": "code",
      "source": [
        "two_dim"
      ],
      "metadata": {
        "colab": {
          "base_uri": "https://localhost:8080/"
        },
        "id": "ncoKGnP4trxz",
        "outputId": "4bf3f320-b11b-4052-b458-758ac06a101e"
      },
      "execution_count": null,
      "outputs": [
        {
          "output_type": "execute_result",
          "data": {
            "text/plain": [
              "array([[1, 2, 3],\n",
              "       [4, 5, 6]])"
            ]
          },
          "metadata": {},
          "execution_count": 6
        }
      ]
    },
    {
      "cell_type": "code",
      "source": [
        "# Cria um array de números aleatórios\n",
        "np.random.random((5,2))"
      ],
      "metadata": {
        "colab": {
          "base_uri": "https://localhost:8080/"
        },
        "id": "zLXJkzo9tvmS",
        "outputId": "4aca6ed2-5c42-4af0-d94e-561fe677e761"
      },
      "execution_count": null,
      "outputs": [
        {
          "output_type": "execute_result",
          "data": {
            "text/plain": [
              "array([[0.94363932, 0.00815302],\n",
              "       [0.85102426, 0.68305466],\n",
              "       [0.23181616, 0.40491806],\n",
              "       [0.79890216, 0.23550332],\n",
              "       [0.78686082, 0.01712249]])"
            ]
          },
          "metadata": {},
          "execution_count": 8
        }
      ]
    },
    {
      "cell_type": "code",
      "source": [
        "# Cria um array com valores esparsos iniciando com o valor 10, menor que 50 e incrementando de 5 em 5\n",
        "np.arange(10,50,5)"
      ],
      "metadata": {
        "colab": {
          "base_uri": "https://localhost:8080/"
        },
        "id": "J8GxquWduDqh",
        "outputId": "8b673ecc-ae9b-4527-c5c1-5967e36d21ac"
      },
      "execution_count": null,
      "outputs": [
        {
          "output_type": "execute_result",
          "data": {
            "text/plain": [
              "array([10, 15, 20, 25, 30, 35, 40, 45])"
            ]
          },
          "metadata": {},
          "execution_count": 9
        }
      ]
    },
    {
      "cell_type": "code",
      "source": [
        "# Cria um array linear de 0 a 2 de no máximo 9 elementos\n",
        "np.linspace(0,2,9)"
      ],
      "metadata": {
        "colab": {
          "base_uri": "https://localhost:8080/"
        },
        "id": "lYEvbx4ayEYL",
        "outputId": "69dbef29-4e18-4011-c0ef-50bbb5104298"
      },
      "execution_count": null,
      "outputs": [
        {
          "output_type": "execute_result",
          "data": {
            "text/plain": [
              "array([0.  , 0.25, 0.5 , 0.75, 1.  , 1.25, 1.5 , 1.75, 2.  ])"
            ]
          },
          "metadata": {},
          "execution_count": 10
        }
      ]
    },
    {
      "cell_type": "code",
      "source": [
        "# Cria um array de valores zero\n",
        "# Cria um array com 3 linhas e 4 dimensões\n",
        "np.zeros((3,4))"
      ],
      "metadata": {
        "colab": {
          "base_uri": "https://localhost:8080/"
        },
        "id": "x-hftmsEyMxz",
        "outputId": "ec6047a1-56ad-4034-b8e7-4ca9a914d647"
      },
      "execution_count": null,
      "outputs": [
        {
          "output_type": "execute_result",
          "data": {
            "text/plain": [
              "array([[0., 0., 0., 0.],\n",
              "       [0., 0., 0., 0.],\n",
              "       [0., 0., 0., 0.]])"
            ]
          },
          "metadata": {},
          "execution_count": 11
        }
      ]
    },
    {
      "cell_type": "markdown",
      "source": [
        "# **Numpy Arrays Vs Listas**\n",
        "\n",
        "\n",
        "*   Arrays Numpy permitem fazermos operações em arrays inteiros de forma rápida\n",
        "*   Listas não permitem operações em todos os elementos da lista\n",
        "* Para operações em todos os elementos é preciso interar sobre toda a lista\n",
        "* Listas em Python armazenam diferentes tipos de objetos\n",
        "* Arrays Numpy considera todos os elementos de tipos distintos como strings\n",
        "\n",
        "\n"
      ],
      "metadata": {
        "id": "n2Uo0kQ4xfyr"
      }
    },
    {
      "cell_type": "code",
      "source": [
        "# Lista em Python\n",
        "lista = [1,2,3]"
      ],
      "metadata": {
        "id": "9_lEQmlZybBd"
      },
      "execution_count": null,
      "outputs": []
    },
    {
      "cell_type": "code",
      "source": [
        "# Multiplicar valores da lista por 2\n",
        "lista * 2"
      ],
      "metadata": {
        "colab": {
          "base_uri": "https://localhost:8080/"
        },
        "id": "vzHMQ26Qyh-g",
        "outputId": "84af3326-6710-41f7-d7a6-c0f985d612a5"
      },
      "execution_count": null,
      "outputs": [
        {
          "output_type": "execute_result",
          "data": {
            "text/plain": [
              "[1, 2, 3, 1, 2, 3]"
            ]
          },
          "metadata": {},
          "execution_count": 2
        }
      ]
    },
    {
      "cell_type": "code",
      "source": [
        "# Transforme a variável da lista em um array numpy\n",
        "lista = np.array(lista)"
      ],
      "metadata": {
        "id": "CO4vnDQMysKx"
      },
      "execution_count": null,
      "outputs": []
    },
    {
      "cell_type": "code",
      "source": [
        "# Imprimindo tipo de objeto\n",
        "type(lista)"
      ],
      "metadata": {
        "colab": {
          "base_uri": "https://localhost:8080/"
        },
        "id": "sPX54oZuy07F",
        "outputId": "d61fafb4-6da2-4275-ad62-75a1736724ef"
      },
      "execution_count": null,
      "outputs": [
        {
          "output_type": "execute_result",
          "data": {
            "text/plain": [
              "numpy.ndarray"
            ]
          },
          "metadata": {},
          "execution_count": 6
        }
      ]
    },
    {
      "cell_type": "code",
      "source": [
        "# Multiplicando cada elemento por 2\n",
        "lista*2"
      ],
      "metadata": {
        "colab": {
          "base_uri": "https://localhost:8080/"
        },
        "id": "cr46oYwiy8O-",
        "outputId": "10e35f64-d1fc-4b78-e735-47de883bbfc8"
      },
      "execution_count": null,
      "outputs": [
        {
          "output_type": "execute_result",
          "data": {
            "text/plain": [
              "array([2, 4, 6])"
            ]
          },
          "metadata": {},
          "execution_count": 7
        }
      ]
    },
    {
      "cell_type": "code",
      "source": [
        "# Calcular IMC de pessoas\n",
        "pesos=[67,81,120,90]\n",
        "altura = [1.68,1.70,1.75,1.85]"
      ],
      "metadata": {
        "id": "JCKNy7UMzTSz"
      },
      "execution_count": null,
      "outputs": []
    },
    {
      "cell_type": "code",
      "source": [
        "# Calculo usando as listas\n",
        "pesos / altura ** 2"
      ],
      "metadata": {
        "colab": {
          "base_uri": "https://localhost:8080/",
          "height": 183
        },
        "id": "b2WjoXOi3Z-o",
        "outputId": "a0eddd49-5608-425f-abf0-0f41a6f24d07"
      },
      "execution_count": null,
      "outputs": [
        {
          "output_type": "error",
          "ename": "TypeError",
          "evalue": "ignored",
          "traceback": [
            "\u001b[0;31m---------------------------------------------------------------------------\u001b[0m",
            "\u001b[0;31mTypeError\u001b[0m                                 Traceback (most recent call last)",
            "\u001b[0;32m<ipython-input-13-5f523ed72cd3>\u001b[0m in \u001b[0;36m<cell line: 2>\u001b[0;34m()\u001b[0m\n\u001b[1;32m      1\u001b[0m \u001b[0;31m# Calculo usando as listas\u001b[0m\u001b[0;34m\u001b[0m\u001b[0;34m\u001b[0m\u001b[0m\n\u001b[0;32m----> 2\u001b[0;31m \u001b[0mpesos\u001b[0m \u001b[0;34m/\u001b[0m \u001b[0maltura\u001b[0m \u001b[0;34m**\u001b[0m \u001b[0;36m2\u001b[0m\u001b[0;34m\u001b[0m\u001b[0;34m\u001b[0m\u001b[0m\n\u001b[0m",
            "\u001b[0;31mTypeError\u001b[0m: unsupported operand type(s) for ** or pow(): 'list' and 'int'"
          ]
        }
      ]
    },
    {
      "cell_type": "code",
      "source": [
        "# Transformando em arrays numpy\n",
        "pesos = np.array(pesos)\n",
        "altura = np.array(altura)"
      ],
      "metadata": {
        "id": "z4yRzY9x3mHr"
      },
      "execution_count": null,
      "outputs": []
    },
    {
      "cell_type": "code",
      "source": [
        "# Calculo usando arrays numpy\n",
        "pesos / altura ** 2"
      ],
      "metadata": {
        "colab": {
          "base_uri": "https://localhost:8080/"
        },
        "id": "bdMD_ae730rf",
        "outputId": "3bb7d7aa-00e7-48cb-8e7b-3109d1a03de8"
      },
      "execution_count": null,
      "outputs": [
        {
          "output_type": "execute_result",
          "data": {
            "text/plain": [
              "array([23.73866213, 28.02768166, 39.18367347, 26.29656684])"
            ]
          },
          "metadata": {},
          "execution_count": 15
        }
      ]
    },
    {
      "cell_type": "code",
      "source": [
        "# Arrays Numpy armazena elementos como strins quando estes não são inteiros ou float\n",
        "a = np.array([1,3,'Casa',True])"
      ],
      "metadata": {
        "id": "szXbO_2e459L"
      },
      "execution_count": null,
      "outputs": []
    },
    {
      "cell_type": "code",
      "source": [
        "# Transforma todos os elementos em strings\n",
        "a"
      ],
      "metadata": {
        "colab": {
          "base_uri": "https://localhost:8080/"
        },
        "id": "o1wGlmtz5OTD",
        "outputId": "db98c17d-2237-4a05-866e-d7755e33c581"
      },
      "execution_count": null,
      "outputs": [
        {
          "output_type": "execute_result",
          "data": {
            "text/plain": [
              "array(['1', '3', 'Casa', 'True'], dtype='<U21')"
            ]
          },
          "metadata": {},
          "execution_count": 17
        }
      ]
    },
    {
      "cell_type": "code",
      "source": [
        "a*2"
      ],
      "metadata": {
        "colab": {
          "base_uri": "https://localhost:8080/",
          "height": 183
        },
        "id": "gLKB1iEv5Xeh",
        "outputId": "81573a17-492c-4502-e1ac-7ddf8ec7524a"
      },
      "execution_count": null,
      "outputs": [
        {
          "output_type": "error",
          "ename": "UFuncTypeError",
          "evalue": "ignored",
          "traceback": [
            "\u001b[0;31m---------------------------------------------------------------------------\u001b[0m",
            "\u001b[0;31mUFuncTypeError\u001b[0m                            Traceback (most recent call last)",
            "\u001b[0;32m<ipython-input-18-dedcc762d7ca>\u001b[0m in \u001b[0;36m<cell line: 1>\u001b[0;34m()\u001b[0m\n\u001b[0;32m----> 1\u001b[0;31m \u001b[0ma\u001b[0m\u001b[0;34m*\u001b[0m\u001b[0;36m2\u001b[0m\u001b[0;34m\u001b[0m\u001b[0;34m\u001b[0m\u001b[0m\n\u001b[0m",
            "\u001b[0;31mUFuncTypeError\u001b[0m: ufunc 'multiply' did not contain a loop with signature matching types (dtype('<U21'), dtype('int64')) -> None"
          ]
        }
      ]
    },
    {
      "cell_type": "markdown",
      "source": [
        "# **Métodos e Atributos Úteis**"
      ],
      "metadata": {
        "id": "cGS11tDD80KU"
      }
    },
    {
      "cell_type": "code",
      "source": [
        "# Retorna a forma do array no formato linhas e colunas\n",
        "two_dim.shape"
      ],
      "metadata": {
        "colab": {
          "base_uri": "https://localhost:8080/"
        },
        "id": "SeHBKM8186qE",
        "outputId": "fabd3e53-1647-49f9-dbe3-0cbea250d209"
      },
      "execution_count": null,
      "outputs": [
        {
          "output_type": "execute_result",
          "data": {
            "text/plain": [
              "(2, 3)"
            ]
          },
          "metadata": {},
          "execution_count": 21
        }
      ]
    },
    {
      "cell_type": "code",
      "source": [
        "# Retorna a quantidade de dimensões\n",
        "two_dim.ndim"
      ],
      "metadata": {
        "colab": {
          "base_uri": "https://localhost:8080/"
        },
        "id": "FKxkxCUvBGyD",
        "outputId": "44b8ff2c-d237-4943-b438-eda18a9f8d01"
      },
      "execution_count": null,
      "outputs": [
        {
          "output_type": "execute_result",
          "data": {
            "text/plain": [
              "2"
            ]
          },
          "metadata": {},
          "execution_count": 22
        }
      ]
    },
    {
      "cell_type": "code",
      "source": [
        "# Valor máximo do array\n",
        "two_dim.max()"
      ],
      "metadata": {
        "colab": {
          "base_uri": "https://localhost:8080/"
        },
        "id": "S6-rs1Q5BOLJ",
        "outputId": "44431385-f463-410c-e78a-e5ecf27f11cf"
      },
      "execution_count": null,
      "outputs": [
        {
          "output_type": "execute_result",
          "data": {
            "text/plain": [
              "6"
            ]
          },
          "metadata": {},
          "execution_count": 23
        }
      ]
    },
    {
      "cell_type": "code",
      "source": [
        "# Valor mínimo do array\n",
        "two_dim.min()"
      ],
      "metadata": {
        "colab": {
          "base_uri": "https://localhost:8080/"
        },
        "id": "Kx_AR4XXBnaK",
        "outputId": "8061c60a-9e3b-4a51-e7d6-5bcd7af04f46"
      },
      "execution_count": null,
      "outputs": [
        {
          "output_type": "execute_result",
          "data": {
            "text/plain": [
              "1"
            ]
          },
          "metadata": {},
          "execution_count": 24
        }
      ]
    },
    {
      "cell_type": "code",
      "source": [
        "# Imprimindo o valor médio\n",
        "two_dim.mean()"
      ],
      "metadata": {
        "colab": {
          "base_uri": "https://localhost:8080/"
        },
        "id": "tbrRDkMMBsdL",
        "outputId": "0788a5c7-0b5f-45ee-e280-ba8499203a12"
      },
      "execution_count": null,
      "outputs": [
        {
          "output_type": "execute_result",
          "data": {
            "text/plain": [
              "3.5"
            ]
          },
          "metadata": {},
          "execution_count": 25
        }
      ]
    },
    {
      "cell_type": "code",
      "source": [
        "# Desvio padrão\n",
        "two_dim.std()"
      ],
      "metadata": {
        "colab": {
          "base_uri": "https://localhost:8080/"
        },
        "id": "UC8OrssHByXN",
        "outputId": "d12a7c7a-1522-4156-e594-bb2832c62e29"
      },
      "execution_count": null,
      "outputs": [
        {
          "output_type": "execute_result",
          "data": {
            "text/plain": [
              "1.707825127659933"
            ]
          },
          "metadata": {},
          "execution_count": 26
        }
      ]
    },
    {
      "cell_type": "code",
      "source": [
        "# tamanho\n",
        "two_dim.size"
      ],
      "metadata": {
        "colab": {
          "base_uri": "https://localhost:8080/"
        },
        "id": "_h_1TX3lLOI0",
        "outputId": "2dc02028-d535-4b67-8a5c-0f7f2f11b3c7"
      },
      "execution_count": null,
      "outputs": [
        {
          "output_type": "execute_result",
          "data": {
            "text/plain": [
              "6"
            ]
          },
          "metadata": {},
          "execution_count": 27
        }
      ]
    },
    {
      "cell_type": "code",
      "source": [
        "# mostra a quantidade em byte dos itens\n",
        "two_dim.itemsize"
      ],
      "metadata": {
        "colab": {
          "base_uri": "https://localhost:8080/"
        },
        "id": "TyOXZDKROyIr",
        "outputId": "08cafbbb-88a2-40cb-9483-d5a925147426"
      },
      "execution_count": null,
      "outputs": [
        {
          "output_type": "execute_result",
          "data": {
            "text/plain": [
              "8"
            ]
          },
          "metadata": {},
          "execution_count": 28
        }
      ]
    },
    {
      "cell_type": "code",
      "source": [
        "# Soma todos os elementos do array\n",
        "two_dim.sum"
      ],
      "metadata": {
        "colab": {
          "base_uri": "https://localhost:8080/"
        },
        "id": "3lApU-AvO_3Q",
        "outputId": "69639156-7bea-4363-d2c4-12964228484e"
      },
      "execution_count": null,
      "outputs": [
        {
          "output_type": "execute_result",
          "data": {
            "text/plain": [
              "<function ndarray.sum>"
            ]
          },
          "metadata": {},
          "execution_count": 29
        }
      ]
    },
    {
      "cell_type": "markdown",
      "source": [
        "# **Tranformando Arrays**"
      ],
      "metadata": {
        "id": "naWdRUzkPEme"
      }
    },
    {
      "cell_type": "code",
      "source": [
        "two_dim"
      ],
      "metadata": {
        "colab": {
          "base_uri": "https://localhost:8080/"
        },
        "id": "iVM8onK1PHua",
        "outputId": "67d07682-71c3-40e3-feff-3ec0219455a0"
      },
      "execution_count": null,
      "outputs": [
        {
          "output_type": "execute_result",
          "data": {
            "text/plain": [
              "array([[1, 2, 3],\n",
              "       [4, 5, 6]])"
            ]
          },
          "metadata": {},
          "execution_count": 30
        }
      ]
    },
    {
      "cell_type": "code",
      "source": [
        "# Gera a Transposta da Matriz (linha -> coluna)\n",
        "two_dim.T"
      ],
      "metadata": {
        "colab": {
          "base_uri": "https://localhost:8080/"
        },
        "id": "jVNuU2GTPJ9d",
        "outputId": "8b9066cf-23dc-417d-c656-ec76a3255405"
      },
      "execution_count": null,
      "outputs": [
        {
          "output_type": "execute_result",
          "data": {
            "text/plain": [
              "array([[1, 4],\n",
              "       [2, 5],\n",
              "       [3, 6]])"
            ]
          },
          "metadata": {},
          "execution_count": 31
        }
      ]
    },
    {
      "cell_type": "code",
      "source": [
        "two_dim"
      ],
      "metadata": {
        "colab": {
          "base_uri": "https://localhost:8080/"
        },
        "id": "S_z3ZyJEPYzr",
        "outputId": "e9cca609-53f5-457e-9659-1d4af9a16a42"
      },
      "execution_count": null,
      "outputs": [
        {
          "output_type": "execute_result",
          "data": {
            "text/plain": [
              "array([[1, 2, 3],\n",
              "       [4, 5, 6]])"
            ]
          },
          "metadata": {},
          "execution_count": 32
        }
      ]
    },
    {
      "cell_type": "code",
      "source": [
        "#Transforma em uma matriz de uma linha\n",
        "two_dim.reshape(-1)"
      ],
      "metadata": {
        "colab": {
          "base_uri": "https://localhost:8080/"
        },
        "id": "GF-oK71sPbVW",
        "outputId": "2e0d2281-147b-43fa-a342-30445f8a5406"
      },
      "execution_count": null,
      "outputs": [
        {
          "output_type": "execute_result",
          "data": {
            "text/plain": [
              "array([1, 2, 3, 4, 5, 6])"
            ]
          },
          "metadata": {},
          "execution_count": 33
        }
      ]
    },
    {
      "cell_type": "code",
      "source": [
        "tree = np.random.random((5,3))"
      ],
      "metadata": {
        "id": "yB2Xj48vPpw_"
      },
      "execution_count": null,
      "outputs": []
    },
    {
      "cell_type": "code",
      "source": [
        "tree.shape"
      ],
      "metadata": {
        "colab": {
          "base_uri": "https://localhost:8080/"
        },
        "id": "jHbFuCD6PxMf",
        "outputId": "ec071622-2b99-4036-8820-da4c9ccffd6e"
      },
      "execution_count": null,
      "outputs": [
        {
          "output_type": "execute_result",
          "data": {
            "text/plain": [
              "(5, 3)"
            ]
          },
          "metadata": {},
          "execution_count": 35
        }
      ]
    },
    {
      "cell_type": "code",
      "source": [
        "# Transforma em uma matriz com 3 linhas e 5 colunas\n",
        "tree.reshape(3,5).shape"
      ],
      "metadata": {
        "colab": {
          "base_uri": "https://localhost:8080/"
        },
        "id": "znv9FdzWP0Vr",
        "outputId": "22719df9-2c5a-457b-be98-e0ecc304b786"
      },
      "execution_count": null,
      "outputs": [
        {
          "output_type": "execute_result",
          "data": {
            "text/plain": [
              "(3, 5)"
            ]
          },
          "metadata": {},
          "execution_count": 38
        }
      ]
    },
    {
      "cell_type": "code",
      "source": [
        "tree.reshape(-1).shape"
      ],
      "metadata": {
        "colab": {
          "base_uri": "https://localhost:8080/"
        },
        "id": "hcuCfx9IP9lD",
        "outputId": "16ad3c10-ede1-4d79-866e-3fc8d7afb2a0"
      },
      "execution_count": null,
      "outputs": [
        {
          "output_type": "execute_result",
          "data": {
            "text/plain": [
              "(15,)"
            ]
          },
          "metadata": {},
          "execution_count": 39
        }
      ]
    },
    {
      "cell_type": "code",
      "source": [
        "t = tree.reshape(1,15)\n",
        "t.shape\n",
        "\n"
      ],
      "metadata": {
        "colab": {
          "base_uri": "https://localhost:8080/"
        },
        "id": "kqH8GUfUQRQP",
        "outputId": "4a0e5f36-d741-48c5-83d3-80ae065ed633"
      },
      "execution_count": null,
      "outputs": [
        {
          "output_type": "execute_result",
          "data": {
            "text/plain": [
              "(1, 15)"
            ]
          },
          "metadata": {},
          "execution_count": 42
        }
      ]
    },
    {
      "cell_type": "code",
      "source": [
        "two_dim"
      ],
      "metadata": {
        "colab": {
          "base_uri": "https://localhost:8080/"
        },
        "id": "blxzv3VWQ-xr",
        "outputId": "d066fb23-bc09-482a-e069-001e8145f77b"
      },
      "execution_count": null,
      "outputs": [
        {
          "output_type": "execute_result",
          "data": {
            "text/plain": [
              "array([[1, 2, 3],\n",
              "       [4, 5, 6]])"
            ]
          },
          "metadata": {},
          "execution_count": 43
        }
      ]
    },
    {
      "cell_type": "code",
      "source": [
        "# Adicionando elementos no array\n",
        "two_dim = np.insert(two_dim,0,10)"
      ],
      "metadata": {
        "id": "tYHFyswFQvrt"
      },
      "execution_count": null,
      "outputs": []
    },
    {
      "cell_type": "code",
      "source": [
        "# A adição do elemento transforma em um array de uma linha\n",
        "two_dim"
      ],
      "metadata": {
        "colab": {
          "base_uri": "https://localhost:8080/"
        },
        "id": "OQdaV8c4RLI5",
        "outputId": "de13373a-a8ed-4f34-8444-aaa46a33a707"
      },
      "execution_count": null,
      "outputs": [
        {
          "output_type": "execute_result",
          "data": {
            "text/plain": [
              "array([10,  1,  2,  3,  4,  5,  6])"
            ]
          },
          "metadata": {},
          "execution_count": 45
        }
      ]
    },
    {
      "cell_type": "code",
      "source": [
        "# Apagando um elemento do array\n",
        "two_dim = np.delete(two_dim,[0])"
      ],
      "metadata": {
        "id": "p60bNRrbRRXx"
      },
      "execution_count": null,
      "outputs": []
    },
    {
      "cell_type": "code",
      "source": [
        "two_dim"
      ],
      "metadata": {
        "colab": {
          "base_uri": "https://localhost:8080/"
        },
        "id": "aPgWceUeRbiu",
        "outputId": "9fc5b90a-3220-410f-a0b8-928d3a2a38c5"
      },
      "execution_count": null,
      "outputs": [
        {
          "output_type": "execute_result",
          "data": {
            "text/plain": [
              "array([1, 2, 3, 4, 5, 6])"
            ]
          },
          "metadata": {},
          "execution_count": 47
        }
      ]
    },
    {
      "cell_type": "code",
      "source": [
        "# Gerando um arquivo .txt a partir de um array\n",
        "np.savetxt(\"dataset_array.txt\",two_dim,delimiter=',')"
      ],
      "metadata": {
        "id": "IysOva5sRe-T"
      },
      "execution_count": null,
      "outputs": []
    },
    {
      "cell_type": "markdown",
      "source": [
        "# **Acessando Dimensões no Array**"
      ],
      "metadata": {
        "id": "maV1UUWQR_DD"
      }
    },
    {
      "cell_type": "code",
      "source": [
        "import numpy as np"
      ],
      "metadata": {
        "id": "Y2zpELc3SDV8"
      },
      "execution_count": null,
      "outputs": []
    },
    {
      "cell_type": "code",
      "source": [
        "my_array = np.random.random([10,2])"
      ],
      "metadata": {
        "id": "livx6bxjSHVZ"
      },
      "execution_count": null,
      "outputs": []
    },
    {
      "cell_type": "code",
      "source": [
        "my_array"
      ],
      "metadata": {
        "colab": {
          "base_uri": "https://localhost:8080/"
        },
        "id": "ZnwPBvH_SMkA",
        "outputId": "ada45aed-c0a0-4d22-f95d-d4d32ff3b786"
      },
      "execution_count": null,
      "outputs": [
        {
          "output_type": "execute_result",
          "data": {
            "text/plain": [
              "array([[0.66960202, 0.08921388],\n",
              "       [0.61871998, 0.98863839],\n",
              "       [0.25091596, 0.8105074 ],\n",
              "       [0.13696411, 0.14854687],\n",
              "       [0.46855595, 0.4334927 ],\n",
              "       [0.49343611, 0.14656783],\n",
              "       [0.50396426, 0.07981521],\n",
              "       [0.98888685, 0.15173355],\n",
              "       [0.17743224, 0.57475147],\n",
              "       [0.27013969, 0.18167786]])"
            ]
          },
          "metadata": {},
          "execution_count": 3
        }
      ]
    },
    {
      "cell_type": "code",
      "source": [
        "# Imprimindo primeiro elemento\n",
        "my_array[0]"
      ],
      "metadata": {
        "colab": {
          "base_uri": "https://localhost:8080/"
        },
        "id": "QMtpIA7_SPE2",
        "outputId": "e2b6247e-a381-4be9-8e69-234ce4bde488"
      },
      "execution_count": null,
      "outputs": [
        {
          "output_type": "execute_result",
          "data": {
            "text/plain": [
              "array([0.66960202, 0.08921388])"
            ]
          },
          "metadata": {},
          "execution_count": 4
        }
      ]
    },
    {
      "cell_type": "code",
      "source": [
        "# Primeiro elemento da primeira coluna\n",
        "my_array[0][0]"
      ],
      "metadata": {
        "colab": {
          "base_uri": "https://localhost:8080/"
        },
        "id": "rE4u7MMQ2sLU",
        "outputId": "1a3e20ea-d58b-4cab-a9ae-b156172a3816"
      },
      "execution_count": null,
      "outputs": [
        {
          "output_type": "execute_result",
          "data": {
            "text/plain": [
              "0.6696020178179571"
            ]
          },
          "metadata": {},
          "execution_count": 5
        }
      ]
    },
    {
      "cell_type": "code",
      "source": [
        "# Primeiro elemento da segunda coluna\n",
        "my_array[0][1]"
      ],
      "metadata": {
        "colab": {
          "base_uri": "https://localhost:8080/"
        },
        "id": "jfPlldU325SI",
        "outputId": "ee6550a9-826f-492f-bcd5-b64350fa0187"
      },
      "execution_count": null,
      "outputs": [
        {
          "output_type": "execute_result",
          "data": {
            "text/plain": [
              "0.08921387833353966"
            ]
          },
          "metadata": {},
          "execution_count": 6
        }
      ]
    },
    {
      "cell_type": "code",
      "source": [
        "# Segundo elemento da segunda coluna\n",
        "my_array[1][1]"
      ],
      "metadata": {
        "colab": {
          "base_uri": "https://localhost:8080/"
        },
        "id": "ysw-tK5z29yG",
        "outputId": "bb845e1a-b81c-4a80-897b-f0f211a1d982"
      },
      "execution_count": null,
      "outputs": [
        {
          "output_type": "execute_result",
          "data": {
            "text/plain": [
              "0.9886383880250562"
            ]
          },
          "metadata": {},
          "execution_count": 7
        }
      ]
    },
    {
      "cell_type": "code",
      "source": [
        "# Outra forma de acessar\n",
        "my_array[1,1]"
      ],
      "metadata": {
        "colab": {
          "base_uri": "https://localhost:8080/"
        },
        "id": "LdvybfTf3FpB",
        "outputId": "ecc83625-1b69-4a46-e96f-ce1ac06e6e5d"
      },
      "execution_count": null,
      "outputs": [
        {
          "output_type": "execute_result",
          "data": {
            "text/plain": [
              "0.9886383880250562"
            ]
          },
          "metadata": {},
          "execution_count": 8
        }
      ]
    },
    {
      "cell_type": "code",
      "source": [
        "# Até 3 elementos da segunda coluna\n",
        "my_array[:3,1]"
      ],
      "metadata": {
        "colab": {
          "base_uri": "https://localhost:8080/"
        },
        "id": "b0sfuEDL3RDN",
        "outputId": "fc464188-6eaf-438b-e439-3d4099563ca6"
      },
      "execution_count": null,
      "outputs": [
        {
          "output_type": "execute_result",
          "data": {
            "text/plain": [
              "array([0.08921388, 0.98863839, 0.8105074 ])"
            ]
          },
          "metadata": {},
          "execution_count": 9
        }
      ]
    },
    {
      "cell_type": "code",
      "source": [
        "# Todas as linhas da segunda coluna e *10"
      ],
      "metadata": {
        "id": "Fb-jpzuF4Hux"
      },
      "execution_count": null,
      "outputs": []
    },
    {
      "cell_type": "code",
      "source": [
        "my_array[:,1]*10"
      ],
      "metadata": {
        "colab": {
          "base_uri": "https://localhost:8080/"
        },
        "id": "xQ6MH01s4RaM",
        "outputId": "24fc58a9-079e-4d94-92e1-e179c444b61f"
      },
      "execution_count": null,
      "outputs": [
        {
          "output_type": "execute_result",
          "data": {
            "text/plain": [
              "array([0.89213878, 9.88638388, 8.10507402, 1.48546875, 4.33492698,\n",
              "       1.46567827, 0.79815214, 1.51733546, 5.74751468, 1.8167786 ])"
            ]
          },
          "metadata": {},
          "execution_count": 10
        }
      ]
    },
    {
      "cell_type": "code",
      "source": [
        "# Comparação\n",
        "my_array > 0.50"
      ],
      "metadata": {
        "colab": {
          "base_uri": "https://localhost:8080/"
        },
        "id": "91w2HoFA4Vvy",
        "outputId": "19fe4743-dbff-49e2-e21c-30bafe851ea8"
      },
      "execution_count": null,
      "outputs": [
        {
          "output_type": "execute_result",
          "data": {
            "text/plain": [
              "array([[ True, False],\n",
              "       [ True,  True],\n",
              "       [False,  True],\n",
              "       [False, False],\n",
              "       [False, False],\n",
              "       [False, False],\n",
              "       [ True, False],\n",
              "       [ True, False],\n",
              "       [False,  True],\n",
              "       [False, False]])"
            ]
          },
          "metadata": {},
          "execution_count": 11
        }
      ]
    },
    {
      "cell_type": "code",
      "source": [
        "# Acessando valores por índices\n",
        "my_array[my_array > 0.50]"
      ],
      "metadata": {
        "colab": {
          "base_uri": "https://localhost:8080/"
        },
        "id": "CeyTv4yE4eAG",
        "outputId": "b5516933-bcef-4fcc-d1d4-9926be7df745"
      },
      "execution_count": null,
      "outputs": [
        {
          "output_type": "execute_result",
          "data": {
            "text/plain": [
              "array([0.66960202, 0.61871998, 0.98863839, 0.8105074 , 0.50396426,\n",
              "       0.98888685, 0.57475147])"
            ]
          },
          "metadata": {},
          "execution_count": 12
        }
      ]
    },
    {
      "cell_type": "markdown",
      "source": [
        "# **Carregar Arrays Numpy a partir de arquivos de Texto**"
      ],
      "metadata": {
        "id": "cqQeh4XJ4t6J"
      }
    },
    {
      "cell_type": "code",
      "source": [
        "import numpy as np"
      ],
      "metadata": {
        "id": "KGXqDIaK4y9J"
      },
      "execution_count": null,
      "outputs": []
    },
    {
      "cell_type": "code",
      "source": [
        "# Lendo um arquivo do tipo .txt\n",
        "dataset = np.loadtxt('dataset_array.txt',delimiter=',')"
      ],
      "metadata": {
        "id": "ZwoL9-eT43fN"
      },
      "execution_count": null,
      "outputs": []
    },
    {
      "cell_type": "code",
      "source": [
        "dataset.shape"
      ],
      "metadata": {
        "colab": {
          "base_uri": "https://localhost:8080/"
        },
        "id": "7pLws8ib5tNi",
        "outputId": "8ebfe6b7-f47c-42c3-e4ab-f509903d9cca"
      },
      "execution_count": null,
      "outputs": [
        {
          "output_type": "execute_result",
          "data": {
            "text/plain": [
              "(6,)"
            ]
          },
          "metadata": {},
          "execution_count": 15
        }
      ]
    },
    {
      "cell_type": "code",
      "source": [
        "dataset"
      ],
      "metadata": {
        "colab": {
          "base_uri": "https://localhost:8080/"
        },
        "id": "Oijg1D5N5wp9",
        "outputId": "4bfa1a3f-0563-4766-d1b2-4cc243fd8dd0"
      },
      "execution_count": null,
      "outputs": [
        {
          "output_type": "execute_result",
          "data": {
            "text/plain": [
              "array([1., 2., 3., 4., 5., 6.])"
            ]
          },
          "metadata": {},
          "execution_count": 16
        }
      ]
    },
    {
      "cell_type": "code",
      "source": [
        "# carregando um arquivo dividido em 3 arrays, por isso o parametro unpack\n",
        "a,b,c = np.loadtxt('dataset_valores.txt',skiprows=1,unpack=True)"
      ],
      "metadata": {
        "id": "1Td1c0kV5zk-"
      },
      "execution_count": null,
      "outputs": []
    },
    {
      "cell_type": "code",
      "source": [
        "# Array a \n",
        "a"
      ],
      "metadata": {
        "colab": {
          "base_uri": "https://localhost:8080/"
        },
        "id": "9TljviQs6HKa",
        "outputId": "b71f2a6e-2164-403f-c0bf-dc580aadb585"
      },
      "execution_count": null,
      "outputs": [
        {
          "output_type": "execute_result",
          "data": {
            "text/plain": [
              "array([0.4839, 0.1292, 0.1781, 0.7676, 0.5993])"
            ]
          },
          "metadata": {},
          "execution_count": 18
        }
      ]
    },
    {
      "cell_type": "code",
      "source": [
        "# Array B\n",
        "b"
      ],
      "metadata": {
        "colab": {
          "base_uri": "https://localhost:8080/"
        },
        "id": "7rZM3mSQ6JwK",
        "outputId": "a438f097-c355-4fa9-df42-7e4eac5febe6"
      },
      "execution_count": null,
      "outputs": [
        {
          "output_type": "execute_result",
          "data": {
            "text/plain": [
              "array([0.4536, 0.6875, 0.3049, 0.5801, 0.4357])"
            ]
          },
          "metadata": {},
          "execution_count": 19
        }
      ]
    },
    {
      "cell_type": "code",
      "source": [
        "# Array C\n",
        "c"
      ],
      "metadata": {
        "colab": {
          "base_uri": "https://localhost:8080/"
        },
        "id": "hpxlUrxK6Va6",
        "outputId": "319728a6-3e6e-4f6d-9712-61f409bab1b9"
      },
      "execution_count": null,
      "outputs": [
        {
          "output_type": "execute_result",
          "data": {
            "text/plain": [
              "array([0.3561, 0.6565, 0.8928, 0.2038, 0.741 ])"
            ]
          },
          "metadata": {},
          "execution_count": 20
        }
      ]
    },
    {
      "cell_type": "code",
      "source": [
        "# Carrega o arquivo ignorando mais de 1 linha e preenchendo valores vazios por 0\n",
        "dataset = np.genfromtxt('dataset_valores_vazio.txt',skip_header=2,filling_values=0)"
      ],
      "metadata": {
        "id": "txil4Da17LXa"
      },
      "execution_count": null,
      "outputs": []
    },
    {
      "cell_type": "code",
      "source": [
        "dataset"
      ],
      "metadata": {
        "colab": {
          "base_uri": "https://localhost:8080/"
        },
        "id": "Dhvc8tq78d7i",
        "outputId": "13c5686c-dfbc-4dc0-e474-6467aefcbd02"
      },
      "execution_count": null,
      "outputs": [
        {
          "output_type": "execute_result",
          "data": {
            "text/plain": [
              "array([[0.4839, 0.4536, 0.3561],\n",
              "       [0.1292, 0.6875, 0.    ],\n",
              "       [0.1781, 0.3049, 0.8928],\n",
              "       [0.    , 0.5801, 0.2038],\n",
              "       [0.5993, 0.4357, 0.741 ]])"
            ]
          },
          "metadata": {},
          "execution_count": 24
        }
      ]
    }
  ]
}